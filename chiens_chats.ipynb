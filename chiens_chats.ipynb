{
  "nbformat": 4,
  "nbformat_minor": 0,
  "metadata": {
    "kernelspec": {
      "display_name": "Python 3",
      "language": "python",
      "name": "python3"
    },
    "language_info": {
      "codemirror_mode": {
        "name": "ipython",
        "version": 3
      },
      "file_extension": ".py",
      "mimetype": "text/x-python",
      "name": "python",
      "nbconvert_exporter": "python",
      "pygments_lexer": "ipython3",
      "version": "3.8.5"
    },
    "colab": {
      "name": "chien_chats.ipynb",
      "provenance": []
    },
    "accelerator": "GPU"
  },
  "cells": [
    {
      "cell_type": "code",
      "metadata": {
        "colab": {
          "base_uri": "https://localhost:8080/"
        },
        "id": "s5Ns7Kj73UzB",
        "outputId": "77fc69ba-27b2-4c07-95c1-27f29fa818c2"
      },
      "source": [
        "from google.colab import drive\r\n",
        "drive.mount('/content/drive')"
      ],
      "execution_count": null,
      "outputs": [
        {
          "output_type": "stream",
          "text": [
            "Mounted at /content/drive\n"
          ],
          "name": "stdout"
        }
      ]
    },
    {
      "cell_type": "code",
      "metadata": {
        "id": "Q0TRptIQWcbc"
      },
      "source": [
        "import os\n",
        "from os import path\n",
        "import pandas as pd\n",
        "import numpy as np\n",
        "import matplotlib.pyplot as plt\n",
        "import PIL\n",
        "from PIL import Image\n",
        "import tensorflow\n",
        "from tensorflow import keras\n",
        "from keras.preprocessing.image import ImageDataGenerator\n",
        "from keras.models import Sequential\n",
        "from keras import layers\n",
        "from keras.layers import Conv2D, MaxPooling2D, Dropout, Flatten, Dense, Activation,GlobalMaxPooling2D\n",
        "from keras.preprocessing.image import ImageDataGenerator\n",
        "from keras import optimizers\n",
        "from keras.models import Model\n"
      ],
      "execution_count": null,
      "outputs": []
    },
    {
      "cell_type": "code",
      "metadata": {
        "id": "EhpMHA7KXGpk"
      },
      "source": [
        "# Données\r\n",
        "train_dir = \"/content/drive/MyDrive/ColabNotebooks/datasets/catsDogs/train/\"\r\n",
        "test_dir = \"/content/drive/MyDrive/ColabNotebooks/datasets/catsDogs/test1\""
      ],
      "execution_count": null,
      "outputs": []
    },
    {
      "cell_type": "code",
      "metadata": {
        "colab": {
          "base_uri": "https://localhost:8080/"
        },
        "id": "TxPkTWD6zFA_",
        "outputId": "015dc5c6-cd71-436a-fc0a-fcf0318ba53b"
      },
      "source": [
        "images = os.listdir(train_dir+'chats')\r\n",
        "len(images)"
      ],
      "execution_count": null,
      "outputs": [
        {
          "output_type": "execute_result",
          "data": {
            "text/plain": [
              "11965"
            ]
          },
          "metadata": {
            "tags": []
          },
          "execution_count": 7
        }
      ]
    },
    {
      "cell_type": "code",
      "metadata": {
        "id": "_h0RRK3sWcb3",
        "colab": {
          "base_uri": "https://localhost:8080/"
        },
        "outputId": "6e6a772f-a6b4-4f79-aa61-95b602354f1d"
      },
      "source": [
        "# Creating train generator\n",
        "train_datagen = ImageDataGenerator(\n",
        "    rotation_range=15,\n",
        "    rescale=1./255,\n",
        "    shear_range=0.2,\n",
        "    zoom_range=0.2,\n",
        "    horizontal_flip=True,\n",
        "    fill_mode='nearest',\n",
        "    width_shift_range=0.1,\n",
        "    height_shift_range=0.1,\n",
        "    validation_split=0.1\n",
        ")\n",
        " \n",
        "train_generator = train_datagen.flow_from_directory(\n",
        "    train_dir,\n",
        "    shuffle=True,\n",
        "    class_mode='binary',\n",
        "    target_size=(224, 224),\n",
        "    batch_size=32,\n",
        "    subset='training'\n",
        ")\n",
        "valid_generator= train_datagen.flow_from_directory(\n",
        "    train_dir,\n",
        "    shuffle=True,\n",
        "    class_mode='binary',\n",
        "    target_size=(224, 224),\n",
        "    batch_size=32,\n",
        "    subset='validation'\n",
        ")"
      ],
      "execution_count": null,
      "outputs": [
        {
          "output_type": "stream",
          "text": [
            "Found 11665 images belonging to 2 classes.\n",
            "Found 1295 images belonging to 2 classes.\n"
          ],
          "name": "stdout"
        }
      ]
    },
    {
      "cell_type": "code",
      "metadata": {
        "id": "z9Uxp1bjWcb-"
      },
      "source": [
        "model = Sequential()\n",
        "model.add(layers.Conv2D(32, (3, 3), activation='relu',\n",
        "                        input_shape=(224, 224, 3)))\n",
        "model.add(layers.MaxPooling2D((2, 2)))\n",
        "model.add(layers.Conv2D(64, (3, 3), activation='relu'))\n",
        "model.add(layers.MaxPooling2D((2, 2)))\n",
        "model.add(layers.Conv2D(128, (3, 3), activation='relu'))\n",
        "model.add(layers.MaxPooling2D((2, 2)))\n",
        "model.add(layers.Conv2D(128, (3, 3), activation='relu'))\n",
        "model.add(layers.MaxPooling2D((2, 2)))\n",
        "model.add(layers.Flatten())\n",
        "model.add(layers.Dense(512, activation='relu'))\n",
        "model.add(layers.Dense(1, activation='sigmoid'))\n",
        "\n",
        "\n",
        "model.compile(loss='binary_crossentropy',\n",
        "              optimizer=optimizers.RMSprop(lr=1e-4),\n",
        "              metrics=['acc'])\n",
        "]"
      ],
      "execution_count": null,
      "outputs": []
    },
    {
      "cell_type": "code",
      "metadata": {
        "id": "76mU9uoLWccM",
        "colab": {
          "base_uri": "https://localhost:8080/"
        },
        "outputId": "f2e55a00-4ef9-442c-d141-58c38cbdd392"
      },
      "source": [
        "history = model.fit(train_generator,\r\n",
        "                    epochs=20,\r\n",
        "                    validation_steps=1295//32,\r\n",
        "                    steps_per_epoch=11665//32,\r\n",
        "                    validation_data=valid_generator)"
      ],
      "execution_count": null,
      "outputs": [
        {
          "output_type": "stream",
          "text": [
            "Epoch 1/20\n",
            "364/364 [==============================] - 933s 3s/step - loss: 0.2574 - acc: 0.9232 - val_loss: 0.2440 - val_acc: 0.9250\n",
            "Epoch 2/20\n",
            "364/364 [==============================] - 168s 461ms/step - loss: 0.2449 - acc: 0.9245 - val_loss: 0.2235 - val_acc: 0.9258\n",
            "Epoch 3/20\n",
            "364/364 [==============================] - 167s 460ms/step - loss: 0.2385 - acc: 0.9271 - val_loss: 0.2238 - val_acc: 0.9273\n",
            "Epoch 4/20\n",
            "364/364 [==============================] - 167s 458ms/step - loss: 0.2315 - acc: 0.9282 - val_loss: 0.2180 - val_acc: 0.9305\n",
            "Epoch 5/20\n",
            "364/364 [==============================] - 168s 461ms/step - loss: 0.2282 - acc: 0.9280 - val_loss: 0.2299 - val_acc: 0.9289\n",
            "Epoch 6/20\n",
            "364/364 [==============================] - 167s 459ms/step - loss: 0.2218 - acc: 0.9303 - val_loss: 0.2107 - val_acc: 0.9320\n",
            "Epoch 7/20\n",
            "364/364 [==============================] - 168s 462ms/step - loss: 0.2210 - acc: 0.9294 - val_loss: 0.2207 - val_acc: 0.9305\n",
            "Epoch 8/20\n",
            "364/364 [==============================] - 167s 459ms/step - loss: 0.2199 - acc: 0.9317 - val_loss: 0.2568 - val_acc: 0.9289\n",
            "Epoch 9/20\n",
            "364/364 [==============================] - 167s 460ms/step - loss: 0.2130 - acc: 0.9320 - val_loss: 0.2296 - val_acc: 0.9336\n",
            "Epoch 10/20\n",
            "364/364 [==============================] - 167s 459ms/step - loss: 0.2111 - acc: 0.9309 - val_loss: 0.2479 - val_acc: 0.9305\n",
            "Epoch 11/20\n",
            "364/364 [==============================] - 168s 461ms/step - loss: 0.2147 - acc: 0.9288 - val_loss: 0.2181 - val_acc: 0.9289\n",
            "Epoch 12/20\n",
            "364/364 [==============================] - 167s 460ms/step - loss: 0.2147 - acc: 0.9328 - val_loss: 0.1990 - val_acc: 0.9312\n",
            "Epoch 13/20\n",
            "364/364 [==============================] - 167s 458ms/step - loss: 0.2116 - acc: 0.9329 - val_loss: 0.2602 - val_acc: 0.9164\n",
            "Epoch 14/20\n",
            "364/364 [==============================] - 166s 456ms/step - loss: 0.2069 - acc: 0.9348 - val_loss: 0.2260 - val_acc: 0.9297\n",
            "Epoch 15/20\n",
            "364/364 [==============================] - 166s 455ms/step - loss: 0.2062 - acc: 0.9348 - val_loss: 0.2030 - val_acc: 0.9336\n",
            "Epoch 16/20\n",
            "364/364 [==============================] - 165s 454ms/step - loss: 0.2033 - acc: 0.9336 - val_loss: 0.2104 - val_acc: 0.9359\n",
            "Epoch 17/20\n",
            "364/364 [==============================] - 165s 452ms/step - loss: 0.1997 - acc: 0.9337 - val_loss: 0.2952 - val_acc: 0.9336\n",
            "Epoch 18/20\n",
            "364/364 [==============================] - 164s 452ms/step - loss: 0.2038 - acc: 0.9350 - val_loss: 0.2240 - val_acc: 0.9172\n",
            "Epoch 19/20\n",
            "364/364 [==============================] - 164s 451ms/step - loss: 0.1977 - acc: 0.9358 - val_loss: 0.2027 - val_acc: 0.9328\n",
            "Epoch 20/20\n",
            "364/364 [==============================] - 163s 449ms/step - loss: 0.1993 - acc: 0.9353 - val_loss: 0.2201 - val_acc: 0.9344\n"
          ],
          "name": "stdout"
        }
      ]
    },
    {
      "cell_type": "code",
      "metadata": {
        "id": "tX1wsKBtWccZ",
        "colab": {
          "base_uri": "https://localhost:8080/",
          "height": 573
        },
        "outputId": "ac1f7a08-d2ce-4389-998a-967a46bc4714"
      },
      "source": [
        "# Courbe de précision\n",
        "plt.plot(history.history['acc'])\n",
        "plt.plot(history.history['val_acc'])\n",
        "plt.title('model accuracy')\n",
        "plt.ylabel('accuracy')\n",
        "plt.xlabel('epoch')\n",
        "plt.legend(['train', 'valid'], loc='upper left')\n",
        "plt.show()\n",
        "# Courbe de perte\n",
        "plt.plot(history.history['loss'])\n",
        "plt.plot(history.history['val_loss'])\n",
        "plt.title('model loss')\n",
        "plt.ylabel('loss')\n",
        "plt.xlabel('epoch')\n",
        "plt.legend(['train', 'valid'], loc='upper left')\n",
        "plt.show()"
      ],
      "execution_count": null,
      "outputs": [
        {
          "output_type": "display_data",
          "data": {
            "image/png": "[encoded data removed]",
            "text/plain": [
              "<Figure size 432x288 with 1 Axes>"
            ]
          },
          "metadata": {
            "tags": [],
            "needs_background": "light"
          }
        },
        {
          "output_type": "display_data",
          "data": {
            "image/png": "[encoded data removed]",
            "text/plain": [
              "<Figure size 432x288 with 1 Axes>"
            ]
          },
          "metadata": {
            "tags": [],
            "needs_background": "light"
          }
        }
      ]
    },
    {
      "cell_type": "code",
      "metadata": {
        "id": "C-YCxMKEJthR"
      },
      "source": [
        "test_dataGen = ImageDataGenerator(1./255)\r\n",
        "\r\n",
        "test_gen = test_dataGen.flow_from_dataframe(\r\n",
        "    df_test,\r\n",
        "    test_dir,\r\n",
        "    target_size = IMG_SIZE,\r\n",
        "    x_col = \"filename\",\r\n",
        "    y_col = None,\r\n",
        "    batch_size = batch_size,\r\n",
        "    class_mode = None,\r\n",
        "    shuffle = True,\r\n",
        "    color_mode=\"rgb\",\r\n",
        "\r\n",
        ")"
      ],
      "execution_count": null,
      "outputs": []
    },
    {
      "cell_type": "code",
      "metadata": {
        "id": "oUO2xrr0JvTy"
      },
      "source": [
        "predicted = model.predict(test_gen)\r\n",
        "df_test[\"category\"] = np.argmax(predicted, axis=-1)"
      ],
      "execution_count": null,
      "outputs": []
    },
    {
      "cell_type": "code",
      "metadata": {
        "id": "gijzYJeZKCU2"
      },
      "source": [
        "sample_test = df_test.head(18)\r\n",
        "sample_test.head()\r\n",
        "plt.figure(figsize=(12, 24))\r\n",
        "for index, row in sample_test.iterrows():\r\n",
        "    filename = row['filename']\r\n",
        "    category = row['category']\r\n",
        "    img = load_img(test_dir+filename, target_size=IMG_SIZE)\r\n",
        "    plt.subplot(6, 3, index+1)\r\n",
        "    plt.imshow(img)\r\n",
        "    plt.xlabel(\"{}\".format(category))\r\n",
        "plt.tight_layout()\r\n",
        "plt.show()"
      ],
      "execution_count": null,
      "outputs": []
    }
  ]
}