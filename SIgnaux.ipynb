{
 "cells": [
  {
   "cell_type": "code",
   "execution_count": 1,
   "metadata": {},
   "outputs": [],
   "source": [
    "from tensorflow import keras\n",
    "import numpy as np\n",
    "import pandas as pd\n",
    "import PIL\n",
    "from PIL import Image\n",
    "import os\n",
    "from os import path\n",
    "from keras.utils import np_utils\n",
    "from keras.datasets import cifar10\n",
    "from keras.models import Sequential\n",
    "from keras.layers import Conv2D, MaxPooling2D, Flatten, Dense, Dropout"
   ]
  },
  {
   "cell_type": "code",
   "execution_count": 6,
   "metadata": {},
   "outputs": [],
   "source": [
    "# Chargement du jeu de données :\n",
    "def load_signaux(dir):\n",
    "    img_list = []\n",
    "    class_counter = 0\n",
    "    class_list = []\n",
    "    for i in os.listdir(dir):\n",
    "        if (path.isdir(path.join(dir, i))):\n",
    "            for j in os.listdir(path.join(dir, i)):\n",
    "                if (j.endswith('.ppm')):\n",
    "                    class_list.append(class_counter)\n",
    "                    img_list.append(np.array(Image.open(os.path.join(os.path.join(dir, i), j)).resize((28, 28))))\n",
    "            class_counter += 1\n",
    "    return np.array(img_list), np.array(class_list)"
   ]
  },
  {
   "cell_type": "code",
   "execution_count": 7,
   "metadata": {},
   "outputs": [],
   "source": [
    "from sklearn.model_selection import train_test_split"
   ]
  },
  {
   "cell_type": "code",
   "execution_count": 8,
   "metadata": {},
   "outputs": [],
   "source": [
    "train_dir = \"train\"\n",
    "test_dir = \"test\""
   ]
  },
  {
   "cell_type": "code",
   "execution_count": 9,
   "metadata": {},
   "outputs": [],
   "source": [
    "X_train_full,y_train_full=load_signaux(train_dir)"
   ]
  },
  {
   "cell_type": "code",
   "execution_count": 10,
   "metadata": {},
   "outputs": [],
   "source": [
    "X_test,y_test = load_signaux(test_dir)"
   ]
  },
  {
   "cell_type": "code",
   "execution_count": 11,
   "metadata": {},
   "outputs": [
    {
     "data": {
      "text/plain": [
       "(4575, 28, 28, 3)"
      ]
     },
     "execution_count": 11,
     "metadata": {},
     "output_type": "execute_result"
    }
   ],
   "source": [
    "X_train_full.shape"
   ]
  },
  {
   "cell_type": "code",
   "execution_count": 12,
   "metadata": {},
   "outputs": [
    {
     "data": {
      "text/plain": [
       "(2520, 28, 28, 3)"
      ]
     },
     "execution_count": 12,
     "metadata": {},
     "output_type": "execute_result"
    }
   ],
   "source": [
    "X_test.shape"
   ]
  },
  {
   "cell_type": "code",
   "execution_count": 13,
   "metadata": {},
   "outputs": [
    {
     "data": {
      "text/plain": [
       "(2520,)"
      ]
     },
     "execution_count": 13,
     "metadata": {},
     "output_type": "execute_result"
    }
   ],
   "source": [
    "y_test.shape"
   ]
  },
  {
   "cell_type": "code",
   "execution_count": 14,
   "metadata": {},
   "outputs": [],
   "source": [
    "# Normalisation de l'input\n",
    "X_train_full= X_train_full.astype('float32')\n",
    "X_test_full= X_test.astype('float32')\n",
    "X_train_full= X_train_full/ 255.0\n",
    "X_test_full= X_test/ 255.0"
   ]
  },
  {
   "cell_type": "code",
   "execution_count": 15,
   "metadata": {},
   "outputs": [],
   "source": [
    "# Categorical => like dummies\n",
    "y_train_full= np_utils.to_categorical(y_train_full)\n",
    "y_test_full= np_utils.to_categorical(y_test)\n"
   ]
  },
  {
   "cell_type": "code",
   "execution_count": 17,
   "metadata": {},
   "outputs": [],
   "source": [
    "X_train, X_val, y_train, y_val = train_test_split(X_train_full,\n",
    "                                                  y_train_full,\n",
    "                                                  test_size=0.25, \n",
    "                                                  random_state=42, \n",
    "                                                  stratify=y_train_full)"
   ]
  },
  {
   "cell_type": "code",
   "execution_count": 18,
   "metadata": {},
   "outputs": [
    {
     "name": "stdout",
     "output_type": "stream",
     "text": [
      "Model: \"sequential\"\n",
      "_________________________________________________________________\n",
      "Layer (type)                 Output Shape              Param #   \n",
      "=================================================================\n",
      "conv2d (Conv2D)              (None, 28, 28, 64)        3136      \n",
      "_________________________________________________________________\n",
      "dropout (Dropout)            (None, 28, 28, 64)        0         \n",
      "_________________________________________________________________\n",
      "average_pooling2d (AveragePo (None, 14, 14, 64)        0         \n",
      "_________________________________________________________________\n",
      "conv2d_1 (Conv2D)            (None, 14, 14, 32)        18464     \n",
      "_________________________________________________________________\n",
      "max_pooling2d (MaxPooling2D) (None, 7, 7, 32)          0         \n",
      "_________________________________________________________________\n",
      "flatten (Flatten)            (None, 1568)              0         \n",
      "_________________________________________________________________\n",
      "dense (Dense)                (None, 256)               401664    \n",
      "_________________________________________________________________\n",
      "dropout_1 (Dropout)          (None, 256)               0         \n",
      "_________________________________________________________________\n",
      "dense_1 (Dense)              (None, 256)               65792     \n",
      "_________________________________________________________________\n",
      "dense_2 (Dense)              (None, 62)                15934     \n",
      "=================================================================\n",
      "Total params: 504,990\n",
      "Trainable params: 504,990\n",
      "Non-trainable params: 0\n",
      "_________________________________________________________________\n",
      "None\n"
     ]
    }
   ],
   "source": [
    "num_classes= y_train_full.shape[1]\n",
    "\n",
    "# Creation du modele\n",
    "\n",
    "model = Sequential()\n",
    "model.add(Conv2D(64, (4, 4), input_shape=(28,28,3), padding='same', activation='relu'))\n",
    "model.add(Dropout(0.5))\n",
    "model.add(keras.layers.AveragePooling2D())\n",
    "model.add(Conv2D(32, (3, 3), activation='relu', padding='same'))\n",
    "model.add(MaxPooling2D(pool_size=(2, 2)))\n",
    "model.add(Flatten())\n",
    "model.add(Dense(256, activation='relu'))\n",
    "model.add(Dropout(0.5))\n",
    "model.add(Dense(256, activation='relu'))\n",
    "model.add(Dense(num_classes, activation='softmax'))\n",
    "\n",
    "# Compile model\n",
    "epochs= 20\n",
    "lrate= 0.001\n",
    "model.compile(loss='categorical_crossentropy', optimizer='adam', metrics=['accuracy'])\n",
    "print(model.summary())"
   ]
  },
  {
   "cell_type": "code",
   "execution_count": 19,
   "metadata": {},
   "outputs": [
    {
     "data": {
      "text/plain": [
       "'logs/fit/0119-164147'"
      ]
     },
     "execution_count": 19,
     "metadata": {},
     "output_type": "execute_result"
    }
   ],
   "source": [
    "import datetime\n",
    "Log_dir = \"logs/fit/\" + datetime.datetime.now().strftime(\"%m%d-%H%M%S\")\n",
    "Log_dir"
   ]
  },
  {
   "cell_type": "code",
   "execution_count": 20,
   "metadata": {},
   "outputs": [],
   "source": [
    "#Log_dir=os.path.dirname(Log_dir)\n",
    "\n",
    "callbacks = [\n",
    "keras.callbacks.TensorBoard(Log_dir),\n",
    "keras.callbacks.EarlyStopping(patience=5),\n",
    "keras.callbacks.ModelCheckpoint(\"signaux_model_\"+datetime.datetime.now().strftime(\"%m%d-%H%M%S\")+\".h5\", save_best_only=True),\n",
    "]"
   ]
  },
  {
   "cell_type": "code",
   "execution_count": 21,
   "metadata": {},
   "outputs": [
    {
     "name": "stdout",
     "output_type": "stream",
     "text": [
      "Epoch 1/40\n",
      "108/108 [==============================] - 7s 60ms/step - loss: 3.6659 - accuracy: 0.1196 - val_loss: 2.3377 - val_accuracy: 0.4572\n",
      "Epoch 2/40\n",
      "108/108 [==============================] - 7s 63ms/step - loss: 2.1630 - accuracy: 0.4488 - val_loss: 1.1698 - val_accuracy: 0.6932\n",
      "Epoch 3/40\n",
      "108/108 [==============================] - 7s 62ms/step - loss: 1.3432 - accuracy: 0.6180 - val_loss: 0.7940 - val_accuracy: 0.7692\n",
      "Epoch 4/40\n",
      "108/108 [==============================] - 7s 61ms/step - loss: 0.9193 - accuracy: 0.7231 - val_loss: 0.5625 - val_accuracy: 0.8199\n",
      "Epoch 5/40\n",
      "108/108 [==============================] - 7s 67ms/step - loss: 0.7253 - accuracy: 0.7718 - val_loss: 0.4944 - val_accuracy: 0.8453\n",
      "Epoch 6/40\n",
      "108/108 [==============================] - 7s 68ms/step - loss: 0.6007 - accuracy: 0.8203 - val_loss: 0.3936 - val_accuracy: 0.8881\n",
      "Epoch 7/40\n",
      "108/108 [==============================] - 8s 70ms/step - loss: 0.4601 - accuracy: 0.8637 - val_loss: 0.3032 - val_accuracy: 0.9108\n",
      "Epoch 8/40\n",
      "108/108 [==============================] - 7s 67ms/step - loss: 0.3895 - accuracy: 0.8761 - val_loss: 0.2471 - val_accuracy: 0.9301\n",
      "Epoch 9/40\n",
      "108/108 [==============================] - 7s 69ms/step - loss: 0.3843 - accuracy: 0.8757 - val_loss: 0.2469 - val_accuracy: 0.9248\n",
      "Epoch 10/40\n",
      "108/108 [==============================] - 7s 65ms/step - loss: 0.2901 - accuracy: 0.9058 - val_loss: 0.2221 - val_accuracy: 0.9327\n",
      "Epoch 11/40\n",
      "108/108 [==============================] - 7s 65ms/step - loss: 0.2793 - accuracy: 0.9109 - val_loss: 0.2404 - val_accuracy: 0.9353\n",
      "Epoch 12/40\n",
      "108/108 [==============================] - 7s 65ms/step - loss: 0.2544 - accuracy: 0.9193 - val_loss: 0.1570 - val_accuracy: 0.9502\n",
      "Epoch 13/40\n",
      "108/108 [==============================] - 7s 65ms/step - loss: 0.2252 - accuracy: 0.9243 - val_loss: 0.1765 - val_accuracy: 0.9493\n",
      "Epoch 14/40\n",
      "108/108 [==============================] - 7s 68ms/step - loss: 0.1828 - accuracy: 0.9367 - val_loss: 0.1795 - val_accuracy: 0.9502\n",
      "Epoch 15/40\n",
      "108/108 [==============================] - 7s 67ms/step - loss: 0.2623 - accuracy: 0.9234 - val_loss: 0.1376 - val_accuracy: 0.9572\n",
      "Epoch 16/40\n",
      "108/108 [==============================] - 8s 76ms/step - loss: 0.1663 - accuracy: 0.9481 - val_loss: 0.1153 - val_accuracy: 0.9650\n",
      "Epoch 17/40\n",
      "108/108 [==============================] - 8s 72ms/step - loss: 0.1300 - accuracy: 0.9581 - val_loss: 0.1391 - val_accuracy: 0.9650\n",
      "Epoch 18/40\n",
      "108/108 [==============================] - 8s 71ms/step - loss: 0.1353 - accuracy: 0.9555 - val_loss: 0.1295 - val_accuracy: 0.9659\n",
      "Epoch 19/40\n",
      "108/108 [==============================] - 7s 68ms/step - loss: 0.1109 - accuracy: 0.9644 - val_loss: 0.1284 - val_accuracy: 0.9668\n",
      "Epoch 20/40\n",
      "108/108 [==============================] - 8s 70ms/step - loss: 0.1294 - accuracy: 0.9558 - val_loss: 0.1211 - val_accuracy: 0.9685\n",
      "Epoch 21/40\n",
      "108/108 [==============================] - 7s 69ms/step - loss: 0.1147 - accuracy: 0.9607 - val_loss: 0.0995 - val_accuracy: 0.9685\n",
      "Epoch 22/40\n",
      "108/108 [==============================] - 8s 77ms/step - loss: 0.1227 - accuracy: 0.9575 - val_loss: 0.1362 - val_accuracy: 0.9615\n",
      "Epoch 23/40\n",
      "108/108 [==============================] - 8s 73ms/step - loss: 0.0880 - accuracy: 0.9737 - val_loss: 0.0955 - val_accuracy: 0.9738\n",
      "Epoch 24/40\n",
      "108/108 [==============================] - 8s 75ms/step - loss: 0.1106 - accuracy: 0.9663 - val_loss: 0.1085 - val_accuracy: 0.9703\n",
      "Epoch 25/40\n",
      "108/108 [==============================] - 9s 81ms/step - loss: 0.0928 - accuracy: 0.9628 - val_loss: 0.0998 - val_accuracy: 0.9720\n",
      "Epoch 26/40\n",
      "108/108 [==============================] - 9s 79ms/step - loss: 0.0829 - accuracy: 0.9725 - val_loss: 0.1155 - val_accuracy: 0.9720\n",
      "Epoch 27/40\n",
      "108/108 [==============================] - 8s 76ms/step - loss: 0.0931 - accuracy: 0.9712 - val_loss: 0.1330 - val_accuracy: 0.9738\n",
      "Epoch 28/40\n",
      "108/108 [==============================] - 8s 76ms/step - loss: 0.1215 - accuracy: 0.9591 - val_loss: 0.1017 - val_accuracy: 0.9729\n"
     ]
    },
    {
     "data": {
      "text/plain": [
       "<tensorflow.python.keras.callbacks.History at 0x1e9c0e26550>"
      ]
     },
     "execution_count": 21,
     "metadata": {},
     "output_type": "execute_result"
    }
   ],
   "source": [
    "model.fit(\n",
    "    X_train, y_train,\n",
    "    epochs=40,\n",
    "    validation_data=(X_val, y_val),\n",
    "    callbacks=callbacks\n",
    ")"
   ]
  },
  {
   "cell_type": "code",
   "execution_count": 22,
   "metadata": {},
   "outputs": [
    {
     "name": "stdout",
     "output_type": "stream",
     "text": [
      "79/79 [==============================] - 1s 8ms/step - loss: 0.2427 - accuracy: 0.9421\n"
     ]
    },
    {
     "data": {
      "text/plain": [
       "[0.24266664683818817, 0.9420635104179382]"
      ]
     },
     "execution_count": 22,
     "metadata": {},
     "output_type": "execute_result"
    }
   ],
   "source": [
    "model.evaluate(X_test_full,y_test_full)"
   ]
  },
  {
   "cell_type": "code",
   "execution_count": 29,
   "metadata": {},
   "outputs": [
    {
     "name": "stdout",
     "output_type": "stream",
     "text": [
      "INFO:tensorflow:Assets written to: model\\assets\n"
     ]
    }
   ],
   "source": [
    "model.save('model')"
   ]
  },
  {
   "cell_type": "code",
   "execution_count": null,
   "metadata": {},
   "outputs": [],
   "source": []
  }
 ],
 "metadata": {
  "kernelspec": {
   "display_name": "Python 3",
   "language": "python",
   "name": "python3"
  },
  "language_info": {
   "codemirror_mode": {
    "name": "ipython",
    "version": 3
   },
   "file_extension": ".py",
   "mimetype": "text/x-python",
   "name": "python",
   "nbconvert_exporter": "python",
   "pygments_lexer": "ipython3",
   "version": "3.8.5"
  }
 },
 "nbformat": 4,
 "nbformat_minor": 4
}
